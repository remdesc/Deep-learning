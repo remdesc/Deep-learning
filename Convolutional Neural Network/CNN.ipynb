{
 "cells": [
  {
   "cell_type": "markdown",
   "metadata": {},
   "source": [
    "# Convolutional Neural Networks (CNN) and Deep Architectures\n",
    "\n",
    "In these practicals, we will create a first convolutional neural network (CNN). This type of networks mostly rely on alternating layers of convolution and pooling. A convolution layer is a signal processing inspired layer that performs a bunch of convolutions on the layer input and yields filtered outputs known as feature maps. A pooling layer is a sort of subsampling layer. Most of the time, after several Conv/Pool layer pairs, an MLP is plugged to obtain class membership probabilities. When the number of layers is rather high (unclear how high this is), we obtain a deep network.\n",
    "\n",
    "We will use `TensorFlow v2.O` (or higher) as programming framework and build a CNN to solve an image classification task.\n",
    "\n",
    "## Starting with TensorFlow\n",
    "\n",
    "`TensorFlow` is Google's library designed to create and train deep nets. It relies on an underlying computation graph. Each node of this graph performs an operation on an input tensor. The possible number of ops is very large (ranging from addition, dot product and more complex non-linear operations). The input tensor of the network will flow through these nodes, hence the name of the library. \n",
    "\n",
    "Here is an example of computation graph:\n",
    "\n",
    "<img src=\"graph.png\" alt=\"drawing\" width=\"200\"/>\n",
    "\n",
    "This graph is a tree whose final node output correponds to the following function :\n",
    "\n",
    "$$f\\left( x,y\\right) = x^2 + 2y,$$\n",
    "\n",
    "for some $x$ and $y$. \n",
    "To implement this tree in `TensorFlow`, each node will be an instance of the `Tensor` class. \n",
    "Let us start with the inputs of function $f$ and suppose, we are interested in evaluation function $f$ for the following three pairs $(x,y)$:\n",
    "* $(x,y) = (1,2)$\n",
    "* $(x,y) = (2,3)$\n",
    "* $(x,y) = (3,4)$\n",
    "\n",
    "Starting with $x$, we shall define a tensor containing the successive values of this input : \n",
    "```python\n",
    "x = tf.constant([1,2,3])\n",
    "type(x)\n",
    "```\n",
    "The console answers that `x` has type `<class 'tensorflow.python.framework.ops.EagerTensor'>`. Let us forget about the \"eager\" version and focus on the fact `x`is indeed a tensor ! \n",
    "\n",
    "Now we do the same with $y$:\n",
    "```python\n",
    "y = tf.constant([2,3,4])\n",
    "```\n",
    "We don't have to define a python variable for each node of the computation graph. We can now ask `TensorFlow` to build the whole graph by typing:\n",
    "\n",
    "```python\n",
    "f = x*x + 2*y\n",
    "print(f)\n",
    "```\n",
    "The console answers: `tf.Tensor([ 5 10 17], shape=(3,), dtype=int32)`. \n",
    "Observe that `f` is a tensor that contains the three desired evaluations of function $f$. If one is only interested in observing the array of values contained in `f`, one can ask for the corresponding `numpy` array:\n",
    "\n",
    "```python\n",
    "print(f.numpy())\n",
    "```\n",
    "\n",
    "Before moving to our first exercise, let us remark that instances of `Tensor` are immutable objects ! **They can be assigned only once**. These objects are not meant to vary accross training. For instance, if one types:\n",
    "\n",
    "```python\n",
    "x[0]=10\n",
    "```\n",
    "The console answers : `TypeError: 'tensorflow.python.framework.ops.EagerTensor' object does not support item assignment`.\n",
    "\n",
    "In the next practical session, we will use other tensorflow objects that accept multiple assignments: `tf.Variable`.\n",
    "\n",
    "Here is a cell containing the above instructions."
   ]
  },
  {
   "cell_type": "code",
   "execution_count": 1,
   "metadata": {},
   "outputs": [],
   "source": [
    "from sklearn.metrics import accuracy_score, confusion_matrix\n",
    "from sklearn.linear_model import SGDClassifier\n",
    "from sklearn.linear_model import LogisticRegression\n",
    "import pandas as pd\n",
    "import seaborn as sns\n",
    "import tensorflow as tf\n",
    "import numpy as np\n",
    "import matplotlib.pyplot as plt"
   ]
  },
  {
   "cell_type": "code",
   "execution_count": 3,
   "metadata": {},
   "outputs": [
    {
     "name": "stdout",
     "output_type": "stream",
     "text": [
      "<class 'tensorflow.python.framework.ops.EagerTensor'>\n",
      "tf.Tensor([ 5 10 17], shape=(3,), dtype=int32)\n",
      "[ 5 10 17]\n"
     ]
    },
    {
     "ename": "TypeError",
     "evalue": "'tensorflow.python.framework.ops.EagerTensor' object does not support item assignment",
     "output_type": "error",
     "traceback": [
      "\u001b[1;31m---------------------------------------------------------------------------\u001b[0m",
      "\u001b[1;31mTypeError\u001b[0m                                 Traceback (most recent call last)",
      "\u001b[1;32m<ipython-input-3-11d538abb822>\u001b[0m in \u001b[0;36m<module>\u001b[1;34m\u001b[0m\n\u001b[0;32m      5\u001b[0m \u001b[0mprint\u001b[0m\u001b[1;33m(\u001b[0m\u001b[0mf\u001b[0m\u001b[1;33m)\u001b[0m\u001b[1;33m\u001b[0m\u001b[1;33m\u001b[0m\u001b[0m\n\u001b[0;32m      6\u001b[0m \u001b[0mprint\u001b[0m\u001b[1;33m(\u001b[0m\u001b[0mf\u001b[0m\u001b[1;33m.\u001b[0m\u001b[0mnumpy\u001b[0m\u001b[1;33m(\u001b[0m\u001b[1;33m)\u001b[0m\u001b[1;33m)\u001b[0m\u001b[1;33m\u001b[0m\u001b[1;33m\u001b[0m\u001b[0m\n\u001b[1;32m----> 7\u001b[1;33m \u001b[0mx\u001b[0m\u001b[1;33m[\u001b[0m\u001b[1;36m0\u001b[0m\u001b[1;33m]\u001b[0m\u001b[1;33m=\u001b[0m\u001b[1;36m10\u001b[0m\u001b[1;33m\u001b[0m\u001b[1;33m\u001b[0m\u001b[0m\n\u001b[0m",
      "\u001b[1;31mTypeError\u001b[0m: 'tensorflow.python.framework.ops.EagerTensor' object does not support item assignment"
     ]
    }
   ],
   "source": [
    "x = tf.constant([1,2,3])\n",
    "print(type(x))\n",
    "y = tf.constant([2,3,4])\n",
    "f = x*x + 2*y\n",
    "print(f)\n",
    "print(f.numpy())\n",
    "x[0]=10"
   ]
  },
  {
   "cell_type": "markdown",
   "metadata": {},
   "source": [
    "## Baseline CNN\n",
    "\n",
    "We are now almost ready to start building a `TensorFlow` graph containing convolution or pooling layers instead of the basic operations involved in function $f$. \n",
    "But first things first ! We need a dataset to work with and to load in Jupyter. We will be working with the `MNIST` dataset. This dataset contains 28x28 grayscale images of handwritten figures. It has the advantage to be larger than traditional datasets utilized in practicals while it can still hold in memory and converge in a few minutes. Larger or more complicated datasets (more variability in images) would require too many computational efforts.\n",
    "\n",
    "Execute the following cell to load `MNIST`"
   ]
  },
  {
   "cell_type": "code",
   "execution_count": 4,
   "metadata": {},
   "outputs": [
    {
     "name": "stdout",
     "output_type": "stream",
     "text": [
      "5\n"
     ]
    },
    {
     "data": {
      "text/plain": [
       "<matplotlib.image.AxesImage at 0x1c6bd4d9910>"
      ]
     },
     "execution_count": 4,
     "metadata": {},
     "output_type": "execute_result"
    },
    {
     "data": {
      "image/png": "[encoded data removed]",
      "text/plain": [
       "<Figure size 432x288 with 1 Axes>"
      ]
     },
     "metadata": {
      "needs_background": "light"
     },
     "output_type": "display_data"
    }
   ],
   "source": [
    "mnist = tf.keras.datasets.mnist\n",
    "(x_train, y_train), (x_test, y_test) = mnist.load_data()\n",
    "x_train = x_train/255 - 0.5\n",
    "x_train = x_train.astype('float32')\n",
    "x_test = x_test/255 - 0.5\n",
    "x_test = x_test.astype('float32')\n",
    "#\n",
    "print(y_train[0])\n",
    "plt.imshow(x_train[0], cmap='gray', interpolation=\"nearest\")"
   ]
  },
  {
   "cell_type": "markdown",
   "metadata": {},
   "source": [
    "Let us define some constants that we be useful in the sequel"
   ]
  },
  {
   "cell_type": "code",
   "execution_count": 5,
   "metadata": {},
   "outputs": [
    {
     "name": "stdout",
     "output_type": "stream",
     "text": [
      "(28, 28)\n"
     ]
    }
   ],
   "source": [
    "n = x_train.shape[0]\n",
    "d_x = x_train.shape[1]\n",
    "print(x_train.shape[1:])"
   ]
  },
  {
   "cell_type": "markdown",
   "metadata": {},
   "source": [
    "We can now begin to build the CNN. Following the explanations in the preamble, it seems like we need to turn the arrays of the dataset into `Tensor` instances. That won't be explicitely necessary because `TensorFlow` will do that on its own. So we can readily define a firt convoluational layer that we will connect to the array `x_train`. \n",
    "\n",
    "A second point to mention is that we will use high level functions in this practical session, i.e. functions that in reality translate in multiple nodes of the graph. These functions and classes belong to the `Keras` API. It is accessiable through `tf.Keras`. Note that the backend of this API is `TensorFlow` itself !! So using `Keras` somewhat shadows the use of the computation graph. However, we will see that building a model with `Keras` follows the same philosophy of piling up operations.\n",
    "\n",
    "To use `Keras` functions, we need to prepare ourselves a little bit:\n",
    "* by reshaping our input tensor as 4D tensor where the 4th and last dimension is 1. Later in the graph, this dimension will be larger because we will use multiple filters,\n",
    "* by creating an instance from `tf.keras.Input` which is compatible with `x_train` and plays the role of \"input layer\" for a `Keras` model even if it does not contain actual data\n",
    "\n",
    "### Q1\n",
    "* Reshape `x_train` by adding a 4th dimension of size 1 to it. This dimension is referred to as \"image channel\".\n",
    "* Fill the gap in the instantiation of `tf.keras.Input`. The `shape` parameter must receive a tuple containing image height, image width and image channels. This means that the dataset size is not passed to the constructor because `Keras` does not need this information to build a model."
   ]
  },
  {
   "cell_type": "code",
   "execution_count": 6,
   "metadata": {},
   "outputs": [],
   "source": [
    "x_train = np.reshape(x_train, (x_train.shape[0], x_train.shape[1], x_train.shape[2], 1))"
   ]
  },
  {
   "cell_type": "code",
   "execution_count": 7,
   "metadata": {},
   "outputs": [],
   "source": [
    "inputs = tf.keras.Input(shape=(x_train.shape[1], x_train.shape[2],1))"
   ]
  },
  {
   "cell_type": "markdown",
   "metadata": {},
   "source": [
    "The next element of our NN is a 2D convolutional layer. We can use an instance of `tf.keras.layers.Conv2D` class. We need to specify the number of size of filters (kernels) that we want, what filter size, how to deal with image borders (padding) and what activation we would like. \n",
    "\n",
    "This layer is plugged to the input layer by passing it as input, as if `conv1` was also a function. This way of connecting `Keras` layers will be the same in the sequel.\n",
    "\n",
    "This gives:\n"
   ]
  },
  {
   "cell_type": "code",
   "execution_count": 8,
   "metadata": {},
   "outputs": [],
   "source": [
    "# Convolutional Layer #1\n",
    "conv1 = tf.keras.layers.Conv2D(\n",
    "      filters=64,\n",
    "      kernel_size=[5, 5],\n",
    "      padding=\"valid\",\n",
    "      activation=tf.nn.relu)(inputs)"
   ]
  },
  {
   "cell_type": "markdown",
   "metadata": {},
   "source": [
    "Next, we need a pooling layer to give up some entries of the filtered images provided by the convolutional layer. We will use the usual max pool function in 2x2 neighborhoods which drops 3 entries out of 4 in each such neighborhood. The remaining entry is the one achieving maximal value in the neighborhood."
   ]
  },
  {
   "cell_type": "code",
   "execution_count": 9,
   "metadata": {},
   "outputs": [],
   "source": [
    "# Pooling Layer #1\n",
    "pool1 = tf.keras.layers.MaxPooling2D(pool_size=[2, 2], strides=2)(conv1)"
   ]
  },
  {
   "cell_type": "markdown",
   "metadata": {},
   "source": [
    "### Q2\n",
    "* Why is `strides=2` the correct parameter value for our goal ? \n",
    "* What is the size of each feature map after max pooling ?\n",
    "* How many feature maps are there ?"
   ]
  },
  {
   "cell_type": "markdown",
   "metadata": {},
   "source": [
    "-We choose `strides=2` in order to have a stride value equal to the shape of the filter.\n",
    "\n",
    "<span style=\"color:red\">OR : -We use `strides=2` because we want to decrease the sizes of feature maps.</span>\n",
    "\n",
    "-In MaxPooling input, we have this size from the previous convolution layer : (24,24) (28-5+1), with MaxPooling, we divide feature maps size by 2 so we obtain (12,12).\n",
    "\n",
    "-As in the previous layer we have chosen 64 as the number of filter, we have 64 feature maps before MaxPooling, after MaxPooling, we still have 64 feature maps."
   ]
  },
  {
   "cell_type": "code",
   "execution_count": 29,
   "metadata": {},
   "outputs": [
    {
     "data": {
      "text/plain": [
       "TensorShape([None, 12, 12, 64])"
      ]
     },
     "execution_count": 29,
     "metadata": {},
     "output_type": "execute_result"
    }
   ],
   "source": [
    "pool1.shape"
   ]
  },
  {
   "cell_type": "markdown",
   "metadata": {},
   "source": [
    "We will now plug a 1-layer-MLP on top of this. Fully connected layers (or dense layers) do not accept 4D tensors but 2D ones. We can use `tf.reshape` to flatten feature maps / images to vectors. In the following code the scalar `dflat` = nbr of feature maps x feature map width x feature map height. "
   ]
  },
  {
   "cell_type": "markdown",
   "metadata": {},
   "source": [
    "### Q3\n",
    "* Set this variable with the correct value and execute the following code line: "
   ]
  },
  {
   "cell_type": "code",
   "execution_count": 11,
   "metadata": {},
   "outputs": [],
   "source": [
    "dflat = pool1.shape[1] * pool1.shape[2] * pool1.shape[3]\n",
    "pool2_flat = tf.reshape(pool1, [-1, dflat])"
   ]
  },
  {
   "cell_type": "markdown",
   "metadata": {},
   "source": [
    "Now the first layer MLP is given by an instance of `tf.keras.layers.Dense` as:"
   ]
  },
  {
   "cell_type": "code",
   "execution_count": 12,
   "metadata": {},
   "outputs": [],
   "source": [
    "mlp = tf.keras.layers.Dense(units=1024, activation=tf.nn.relu)(pool2_flat)"
   ]
  },
  {
   "cell_type": "markdown",
   "metadata": {},
   "source": [
    "Finally, we need a softmax layer to obtain class membership probabilities. This can be done in this way:"
   ]
  },
  {
   "cell_type": "code",
   "execution_count": 13,
   "metadata": {},
   "outputs": [],
   "source": [
    "logits = tf.keras.layers.Dense(units=10)(mlp)\n",
    "smax = tf.keras.layers.Softmax()(logits)\n",
    "model = tf.keras.Model(inputs=inputs, outputs=smax)"
   ]
  },
  {
   "cell_type": "markdown",
   "metadata": {},
   "source": [
    "\n",
    "Next, we need to compile the `Keras` model. During this operation, we give the desired values for remaining hyperparameters. We also specify a loss, which in our case is cross-entropy. \n",
    "\n",
    "After compiling, `Keras` allows to have an overview of the model by invoking the `summary` function. This shows us how many parameters there are per layer. \n",
    "\n",
    "### Q4\n",
    "* Explain these numbers layer per layer.\n",
    "\n"
   ]
  },
  {
   "cell_type": "code",
   "execution_count": 14,
   "metadata": {},
   "outputs": [
    {
     "name": "stdout",
     "output_type": "stream",
     "text": [
      "Model: \"model\"\n",
      "_________________________________________________________________\n",
      " Layer (type)                Output Shape              Param #   \n",
      "=================================================================\n",
      " input_1 (InputLayer)        [(None, 28, 28, 1)]       0         \n",
      "                                                                 \n",
      " conv2d (Conv2D)             (None, 24, 24, 64)        1664      \n",
      "                                                                 \n",
      " max_pooling2d (MaxPooling2D  (None, 12, 12, 64)       0         \n",
      " )                                                               \n",
      "                                                                 \n",
      " tf.reshape (TFOpLambda)     (None, 9216)              0         \n",
      "                                                                 \n",
      " dense (Dense)               (None, 1024)              9438208   \n",
      "                                                                 \n",
      " dense_1 (Dense)             (None, 10)                10250     \n",
      "                                                                 \n",
      " softmax (Softmax)           (None, 10)                0         \n",
      "                                                                 \n",
      "=================================================================\n",
      "Total params: 9,450,122\n",
      "Trainable params: 9,450,122\n",
      "Non-trainable params: 0\n",
      "_________________________________________________________________\n"
     ]
    }
   ],
   "source": [
    "model.compile(optimizer=tf.keras.optimizers.Adam(learning_rate=1e-3),\n",
    "              loss=tf.keras.losses.CategoricalCrossentropy(),\n",
    "              metrics=[tf.keras.metrics.CategoricalAccuracy(),])\n",
    "model.summary()"
   ]
  },
  {
   "cell_type": "markdown",
   "metadata": {},
   "source": [
    "- Input : (28,28,1)  →  size of the input image, with the dimension added in the first question.\n",
    "- Conv2D : (24,24,64)  →  explained in question 2.\n",
    "    - Param : 1664 → we have one param for each pixel of each filter (5x5x64 = 1600), then we add the biais which is connected to all the filters (+64)\n",
    "- MaxPooling2D : (12,12,64) → explained in question 2.\n",
    "- Reshape : (9216) → every image is aligned, so we now have a single dimension of 12x12x64 = 9216.\n",
    "- Dense : (1024) → we connect 1024 neural units to the previous layer, so we reduce the dimension.\n",
    "    - Param : 9438208 → There is one param for each previous unit connected to each neural unit (9216x1024 = 9438208), then we add the biais, which is connected to all the neural units : (+1024)\n",
    "- Dense_1 : (10) → we then connect 10 neural units to reach the number of desire outputs of the network.\n",
    "    - Param : 10250 → same as before (1024x10+10 =10250)\n",
    "- Softmax : (10) → we have our 10 probabilities for each number from 0 to 9."
   ]
  },
  {
   "cell_type": "markdown",
   "metadata": {},
   "source": [
    "One of greatest feature of `Keras` is that the training loop is directly implemented through the `fit` function of our model. Let us start training our model for 2 epochs"
   ]
  },
  {
   "cell_type": "code",
   "execution_count": 15,
   "metadata": {},
   "outputs": [
    {
     "name": "stdout",
     "output_type": "stream",
     "text": [
      "Epoch 1/2\n",
      "3000/3000 [==============================] - 113s 38ms/step - loss: 0.1080 - categorical_accuracy: 0.9668\n",
      "Epoch 2/2\n",
      "3000/3000 [==============================] - 115s 38ms/step - loss: 0.0402 - categorical_accuracy: 0.9877\n"
     ]
    },
    {
     "data": {
      "text/plain": [
       "<keras.callbacks.History at 0x1c6c6aa4cd0>"
      ]
     },
     "execution_count": 15,
     "metadata": {},
     "output_type": "execute_result"
    }
   ],
   "source": [
    "model.fit(x=x_train, y=tf.keras.utils.to_categorical(y_train), batch_size=20, epochs=2) "
   ]
  },
  {
   "cell_type": "markdown",
   "metadata": {},
   "source": [
    "To check that we did not overfit, we need to evaluate our model on the test set.\n",
    "\n",
    "## Q5\n",
    "* reshape `x_test` in a 4D tensor just like we did for `x_train`\n",
    "* document yourself on the evaluate function of `tf.Keras.Model` and compute the model accuracy on the test set"
   ]
  },
  {
   "cell_type": "code",
   "execution_count": 16,
   "metadata": {},
   "outputs": [
    {
     "name": "stdout",
     "output_type": "stream",
     "text": [
      "Evaluate on test data\n",
      "500/500 [==============================] - 3s 5ms/step - loss: 0.0472 - categorical_accuracy: 0.9855\n",
      "test loss, test acc: [0.04716302827000618, 0.9854999780654907]\n"
     ]
    }
   ],
   "source": [
    "x_test = np.reshape(x_test, (x_test.shape[0], x_test.shape[1], x_test.shape[2], 1))\n",
    "# Evaluate the model on the test data using `evaluate`\n",
    "print(\"Evaluate on test data\")\n",
    "results = model.evaluate(x=x_test, y=tf.keras.utils.to_categorical(y_test), batch_size=20)\n",
    "print(\"test loss, test acc:\", results)\n",
    "\n",
    "# Generate predictions (probabilities -- the output of the last layer)\n",
    "# on new data using `predict`\n",
    "predictions = model.predict(x_test)"
   ]
  },
  {
   "cell_type": "markdown",
   "metadata": {},
   "source": [
    "The accuracy on test data is lower but very close to training data. As a consequence, our model generalizes well the data."
   ]
  },
  {
   "cell_type": "code",
   "execution_count": 17,
   "metadata": {},
   "outputs": [
    {
     "data": {
      "text/plain": [
       "<AxesSubplot:xlabel='Predicted number', ylabel='Actual number'>"
      ]
     },
     "execution_count": 17,
     "metadata": {},
     "output_type": "execute_result"
    },
    {
     "data": {
      "image/png": "[encoded data removed]",
      "text/plain": [
       "<Figure size 720x720 with 2 Axes>"
      ]
     },
     "metadata": {
      "needs_background": "light"
     },
     "output_type": "display_data"
    }
   ],
   "source": [
    "pred = np.zeros(len(predictions))\n",
    "for i in range (len(predictions)):\n",
    "    pred[i] = np.where(predictions[i]==np.max(predictions[i]))[0][0]\n",
    "    \n",
    "plt.figure(figsize=(10,10))\n",
    "sns.heatmap(pd.crosstab(y_test, pred, rownames=['Actual number'], colnames=['Predicted number']), annot = True, fmt=\"d\")"
   ]
  },
  {
   "cell_type": "markdown",
   "metadata": {},
   "source": [
    "The confusion matrix reveals a very small number of errors."
   ]
  },
  {
   "cell_type": "markdown",
   "metadata": {},
   "source": [
    "### Q6\n",
    "* Add a second pair of conv/pool layers. A smaller amount amount of filters and smaller filters are recommended.\n"
   ]
  },
  {
   "cell_type": "code",
   "execution_count": 18,
   "metadata": {},
   "outputs": [
    {
     "name": "stdout",
     "output_type": "stream",
     "text": [
      "Model: \"model_1\"\n",
      "_________________________________________________________________\n",
      " Layer (type)                Output Shape              Param #   \n",
      "=================================================================\n",
      " input_2 (InputLayer)        [(None, 28, 28, 1)]       0         \n",
      "                                                                 \n",
      " conv2d_1 (Conv2D)           (None, 24, 24, 64)        1664      \n",
      "                                                                 \n",
      " max_pooling2d_1 (MaxPooling  (None, 12, 12, 64)       0         \n",
      " 2D)                                                             \n",
      "                                                                 \n",
      " conv2d_2 (Conv2D)           (None, 10, 10, 16)        9232      \n",
      "                                                                 \n",
      " max_pooling2d_2 (MaxPooling  (None, 5, 5, 16)         0         \n",
      " 2D)                                                             \n",
      "                                                                 \n",
      " tf.reshape_1 (TFOpLambda)   (None, 400)               0         \n",
      "                                                                 \n",
      " dense_2 (Dense)             (None, 1024)              410624    \n",
      "                                                                 \n",
      " dense_3 (Dense)             (None, 10)                10250     \n",
      "                                                                 \n",
      " softmax_1 (Softmax)         (None, 10)                0         \n",
      "                                                                 \n",
      "=================================================================\n",
      "Total params: 431,770\n",
      "Trainable params: 431,770\n",
      "Non-trainable params: 0\n",
      "_________________________________________________________________\n",
      "Epoch 1/2\n",
      "3000/3000 [==============================] - 28s 9ms/step - loss: 0.1040 - categorical_accuracy: 0.9673\n",
      "Epoch 2/2\n",
      "3000/3000 [==============================] - 30s 10ms/step - loss: 0.0387 - categorical_accuracy: 0.9881\n",
      "Evaluate on test data\n",
      "500/500 [==============================] - 2s 3ms/step - loss: 0.0340 - categorical_accuracy: 0.9893\n",
      "test loss, test acc: [0.033956535160541534, 0.989300012588501]\n"
     ]
    }
   ],
   "source": [
    "inputs = tf.keras.Input(shape=(x_train.shape[1], x_train.shape[2],1))\n",
    "conv1 = tf.keras.layers.Conv2D(\n",
    "      filters=64,\n",
    "      kernel_size=[5, 5],\n",
    "      padding=\"valid\",\n",
    "      activation=tf.nn.relu)(inputs)\n",
    "pool1 = tf.keras.layers.MaxPooling2D(pool_size=[2, 2], strides=2)(conv1)\n",
    "#dflat = pool1.shape[1] * pool1.shape[2] * pool1.shape[3]\n",
    "#pool2_flat = tf.reshape(pool1, [-1, dflat])\n",
    "\n",
    "# Convolutional Layer #2\n",
    "conv2 = tf.keras.layers.Conv2D(\n",
    "      filters=16,\n",
    "      kernel_size=[3, 3],\n",
    "      padding=\"valid\",\n",
    "      activation=tf.nn.relu)(pool1)\n",
    "\n",
    "# Pooling Layer #2\n",
    "pool2 = tf.keras.layers.MaxPooling2D(pool_size=[2, 2], strides=2)(conv2)\n",
    "\n",
    "dflat1 = pool2.shape[1] * pool2.shape[2] * pool2.shape[3]\n",
    "pool3_flat = tf.reshape(pool2, [-1, dflat1])\n",
    "\n",
    "mlp1 = tf.keras.layers.Dense(units=1024, activation=tf.nn.relu)(pool3_flat)\n",
    "\n",
    "logits = tf.keras.layers.Dense(units=10)(mlp1)\n",
    "smax = tf.keras.layers.Softmax()(logits)\n",
    "model1 = tf.keras.Model(inputs=inputs, outputs=smax)\n",
    "\n",
    "model1.compile(optimizer=tf.keras.optimizers.Adam(learning_rate=1e-3),\n",
    "              loss=tf.keras.losses.CategoricalCrossentropy(),\n",
    "              metrics=[tf.keras.metrics.CategoricalAccuracy(),])\n",
    "model1.summary()\n",
    "\n",
    "model1.fit(x=x_train, y=tf.keras.utils.to_categorical(y_train), batch_size=20, epochs=2) \n",
    "\n",
    "# Evaluate the model on the test data using `evaluate`\n",
    "print(\"Evaluate on test data\")\n",
    "results = model1.evaluate(x=x_test, y=tf.keras.utils.to_categorical(y_test), batch_size=20)\n",
    "print(\"test loss, test acc:\", results)\n",
    "\n",
    "# Generate predictions (probabilities -- the output of the last layer)\n",
    "# on new data using `predict`\n",
    "predictions = model1.predict(x_test)"
   ]
  },
  {
   "cell_type": "code",
   "execution_count": 19,
   "metadata": {},
   "outputs": [
    {
     "data": {
      "text/plain": [
       "<AxesSubplot:xlabel='Predicted number', ylabel='Actual number'>"
      ]
     },
     "execution_count": 19,
     "metadata": {},
     "output_type": "execute_result"
    },
    {
     "data": {
      "image/png": "[encoded data removed]",
      "text/plain": [
       "<Figure size 720x720 with 2 Axes>"
      ]
     },
     "metadata": {
      "needs_background": "light"
     },
     "output_type": "display_data"
    }
   ],
   "source": [
    "pred = np.zeros(len(predictions))\n",
    "for i in range (len(predictions)):\n",
    "    pred[i] = np.where(predictions[i]==np.max(predictions[i]))[0][0]\n",
    "    \n",
    "plt.figure(figsize=(10,10))\n",
    "sns.heatmap(pd.crosstab(y_test, pred, rownames=['Actual number'], colnames=['Predicted number']), annot = True, fmt=\"d\")"
   ]
  },
  {
   "cell_type": "markdown",
   "metadata": {},
   "source": [
    "By adding a second pair of conv/pool layers, we obtain an higher accuracy on test data (more than 99%)."
   ]
  },
  {
   "cell_type": "markdown",
   "metadata": {},
   "source": [
    "### Q7\n",
    "* Add a second fully connected layer. A smaller number of units is recommended."
   ]
  },
  {
   "cell_type": "code",
   "execution_count": 20,
   "metadata": {},
   "outputs": [
    {
     "name": "stdout",
     "output_type": "stream",
     "text": [
      "Model: \"model_2\"\n",
      "_________________________________________________________________\n",
      " Layer (type)                Output Shape              Param #   \n",
      "=================================================================\n",
      " input_3 (InputLayer)        [(None, 28, 28, 1)]       0         \n",
      "                                                                 \n",
      " conv2d_3 (Conv2D)           (None, 24, 24, 64)        1664      \n",
      "                                                                 \n",
      " max_pooling2d_3 (MaxPooling  (None, 12, 12, 64)       0         \n",
      " 2D)                                                             \n",
      "                                                                 \n",
      " tf.reshape_2 (TFOpLambda)   (None, 9216)              0         \n",
      "                                                                 \n",
      " dense_4 (Dense)             (None, 1024)              9438208   \n",
      "                                                                 \n",
      " dense_5 (Dense)             (None, 512)               524800    \n",
      "                                                                 \n",
      " dense_6 (Dense)             (None, 10)                5130      \n",
      "                                                                 \n",
      " softmax_2 (Softmax)         (None, 10)                0         \n",
      "                                                                 \n",
      "=================================================================\n",
      "Total params: 9,969,802\n",
      "Trainable params: 9,969,802\n",
      "Non-trainable params: 0\n",
      "_________________________________________________________________\n",
      "Epoch 1/2\n",
      "3000/3000 [==============================] - 121s 40ms/step - loss: 0.1172 - categorical_accuracy: 0.9646\n",
      "Epoch 2/2\n",
      "3000/3000 [==============================] - 119s 40ms/step - loss: 0.0481 - categorical_accuracy: 0.9852\n",
      "Evaluate on test data\n",
      "500/500 [==============================] - 3s 5ms/step - loss: 0.0596 - categorical_accuracy: 0.9833\n",
      "test loss, test acc: [0.05964790657162666, 0.983299970626831]\n"
     ]
    }
   ],
   "source": [
    "inputs = tf.keras.Input(shape=(x_train.shape[1], x_train.shape[2],1))\n",
    "conv1 = tf.keras.layers.Conv2D(\n",
    "      filters=64,\n",
    "      kernel_size=[5, 5],\n",
    "      padding=\"valid\",\n",
    "      activation=tf.nn.relu)(inputs)\n",
    "pool1 = tf.keras.layers.MaxPooling2D(pool_size=[2, 2], strides=2)(conv1)\n",
    "dflat = pool1.shape[1] * pool1.shape[2] * pool1.shape[3]\n",
    "pool2_flat = tf.reshape(pool1, [-1, dflat])\n",
    "\n",
    "mlp1 = tf.keras.layers.Dense(units=1024, activation=tf.nn.relu)(pool2_flat)\n",
    "\n",
    "mlp2 = tf.keras.layers.Dense(units=512, activation=tf.nn.relu)(mlp1)\n",
    "logits = tf.keras.layers.Dense(units=10)(mlp2)\n",
    "smax = tf.keras.layers.Softmax()(logits)\n",
    "model2 = tf.keras.Model(inputs=inputs, outputs=smax)\n",
    "\n",
    "model2.compile(optimizer=tf.keras.optimizers.Adam(learning_rate=1e-3),\n",
    "              loss=tf.keras.losses.CategoricalCrossentropy(),\n",
    "              metrics=[tf.keras.metrics.CategoricalAccuracy(),])\n",
    "model2.summary()\n",
    "\n",
    "model2.fit(x=x_train, y=tf.keras.utils.to_categorical(y_train), batch_size=20, epochs=2) \n",
    "\n",
    "# Evaluate the model on the test data using `evaluate`\n",
    "print(\"Evaluate on test data\")\n",
    "results = model2.evaluate(x=x_test, y=tf.keras.utils.to_categorical(y_test), batch_size=20)\n",
    "print(\"test loss, test acc:\", results)\n",
    "\n",
    "# Generate predictions (probabilities -- the output of the last layer)\n",
    "# on new data using `predict`\n",
    "predictions = model2.predict(x_test)"
   ]
  },
  {
   "cell_type": "code",
   "execution_count": 21,
   "metadata": {},
   "outputs": [
    {
     "data": {
      "text/plain": [
       "<AxesSubplot:xlabel='Predicted number', ylabel='Actual number'>"
      ]
     },
     "execution_count": 21,
     "metadata": {},
     "output_type": "execute_result"
    },
    {
     "data": {
      "image/png": "[encoded data removed]",
      "text/plain": [
       "<Figure size 720x720 with 2 Axes>"
      ]
     },
     "metadata": {
      "needs_background": "light"
     },
     "output_type": "display_data"
    }
   ],
   "source": [
    "pred = np.zeros(len(predictions))\n",
    "for i in range (len(predictions)):\n",
    "    pred[i] = np.where(predictions[i]==np.max(predictions[i]))[0][0]\n",
    "    \n",
    "plt.figure(figsize=(10,10))\n",
    "sns.heatmap(pd.crosstab(y_test, pred, rownames=['Actual number'], colnames=['Predicted number']), annot = True, fmt=\"d\")"
   ]
  },
  {
   "cell_type": "markdown",
   "metadata": {},
   "source": [
    "By adding a second fully connected layer, the performance increases compared to our first model, but it is not as efficient as the model obtained by adding a second pair of conv/pool layers."
   ]
  },
  {
   "cell_type": "markdown",
   "metadata": {},
   "source": [
    "### Q8 (optional)\n",
    "From the above NN architecture, try to tweak the other hyperparameters and comment on the sensitivity of the results wrt them. These latter include:\n",
    "* the learning rate,\n",
    "* the regularization strength (if regularization is activated),\n",
    "* number of filters,\n",
    "* filter sizes,\n",
    "* activiation functions,\n",
    "* strides,\n",
    "* padding types,\n",
    "* ..."
   ]
  },
  {
   "cell_type": "code",
   "execution_count": 22,
   "metadata": {},
   "outputs": [
    {
     "name": "stdout",
     "output_type": "stream",
     "text": [
      "Learning rate : 1e-05\n",
      "Model: \"model_3\"\n",
      "_________________________________________________________________\n",
      " Layer (type)                Output Shape              Param #   \n",
      "=================================================================\n",
      " input_4 (InputLayer)        [(None, 28, 28, 1)]       0         \n",
      "                                                                 \n",
      " conv2d_4 (Conv2D)           (None, 24, 24, 64)        1664      \n",
      "                                                                 \n",
      " max_pooling2d_4 (MaxPooling  (None, 12, 12, 64)       0         \n",
      " 2D)                                                             \n",
      "                                                                 \n",
      " tf.reshape_3 (TFOpLambda)   (None, 9216)              0         \n",
      "                                                                 \n",
      " dense_7 (Dense)             (None, 1024)              9438208   \n",
      "                                                                 \n",
      " dense_8 (Dense)             (None, 10)                10250     \n",
      "                                                                 \n",
      " softmax_3 (Softmax)         (None, 10)                0         \n",
      "                                                                 \n",
      "=================================================================\n",
      "Total params: 9,450,122\n",
      "Trainable params: 9,450,122\n",
      "Non-trainable params: 0\n",
      "_________________________________________________________________\n",
      "Epoch 1/2\n",
      "3000/3000 [==============================] - 111s 37ms/step - loss: 0.5394 - categorical_accuracy: 0.8830\n",
      "Epoch 2/2\n",
      "3000/3000 [==============================] - 115s 38ms/step - loss: 0.1869 - categorical_accuracy: 0.9483\n",
      "Evaluate on test data\n",
      "500/500 [==============================] - 3s 5ms/step - loss: 0.1448 - categorical_accuracy: 0.9609\n",
      "test loss, test acc: [0.1448020339012146, 0.9609000086784363]\n",
      "Learning rate : 0.1\n",
      "Model: \"model_4\"\n",
      "_________________________________________________________________\n",
      " Layer (type)                Output Shape              Param #   \n",
      "=================================================================\n",
      " input_5 (InputLayer)        [(None, 28, 28, 1)]       0         \n",
      "                                                                 \n",
      " conv2d_5 (Conv2D)           (None, 24, 24, 64)        1664      \n",
      "                                                                 \n",
      " max_pooling2d_5 (MaxPooling  (None, 12, 12, 64)       0         \n",
      " 2D)                                                             \n",
      "                                                                 \n",
      " tf.reshape_4 (TFOpLambda)   (None, 9216)              0         \n",
      "                                                                 \n",
      " dense_9 (Dense)             (None, 1024)              9438208   \n",
      "                                                                 \n",
      " dense_10 (Dense)            (None, 10)                10250     \n",
      "                                                                 \n",
      " softmax_4 (Softmax)         (None, 10)                0         \n",
      "                                                                 \n",
      "=================================================================\n",
      "Total params: 9,450,122\n",
      "Trainable params: 9,450,122\n",
      "Non-trainable params: 0\n",
      "_________________________________________________________________\n",
      "Epoch 1/2\n",
      "3000/3000 [==============================] - 111s 37ms/step - loss: 5.6506 - categorical_accuracy: 0.2521\n",
      "Epoch 2/2\n",
      "3000/3000 [==============================] - 107s 36ms/step - loss: 2.7485 - categorical_accuracy: 0.1102\n",
      "Evaluate on test data\n",
      "500/500 [==============================] - 3s 5ms/step - loss: 2.3085 - categorical_accuracy: 0.0982\n",
      "test loss, test acc: [2.308518409729004, 0.0982000008225441]\n"
     ]
    }
   ],
   "source": [
    "for x in [1e-5, 1e-1]: \n",
    "    print('Learning rate :', x)\n",
    "    inputs = tf.keras.Input(shape=(x_train.shape[1], x_train.shape[2],1))\n",
    "    conv1 = tf.keras.layers.Conv2D(\n",
    "          filters=64,\n",
    "          kernel_size=[5, 5],\n",
    "          padding=\"valid\",\n",
    "          activation=tf.nn.relu)(inputs)\n",
    "    pool1 = tf.keras.layers.MaxPooling2D(pool_size=[2, 2], strides=2)(conv1)\n",
    "    dflat = pool1.shape[1] * pool1.shape[2] * pool1.shape[3]\n",
    "    pool2_flat = tf.reshape(pool1, [-1, dflat])\n",
    "    \n",
    "    mlp = tf.keras.layers.Dense(units=1024, activation=tf.nn.relu)(pool2_flat)\n",
    "\n",
    "    logits = tf.keras.layers.Dense(units=10)(mlp)\n",
    "    smax = tf.keras.layers.Softmax()(logits)\n",
    "    model = tf.keras.Model(inputs=inputs, outputs=smax)\n",
    "    \n",
    "    model.compile(optimizer=tf.keras.optimizers.Adam(learning_rate=x),\n",
    "              loss=tf.keras.losses.CategoricalCrossentropy(),\n",
    "              metrics=[tf.keras.metrics.CategoricalAccuracy(),])\n",
    "    model.summary()\n",
    "    \n",
    "    model.fit(x=x_train, y=tf.keras.utils.to_categorical(y_train), batch_size=20, epochs=2) \n",
    "    \n",
    "    print(\"Evaluate on test data\")\n",
    "    results = model.evaluate(x=x_test, y=tf.keras.utils.to_categorical(y_test), batch_size=20)\n",
    "    print(\"test loss, test acc:\", results)\n",
    "\n",
    "    # Generate predictions (probabilities -- the output of the last layer)\n",
    "    # on new data using `predict`\n",
    "    predictions = model.predict(x_test)"
   ]
  },
  {
   "cell_type": "markdown",
   "metadata": {},
   "source": [
    "When we decrease the learning rate (10e-5), the performance on test data decreases (96%) but is still acceptable. And when we increase the learning rate (0.1), the model loses its power of prediction. Indeed, we have a very low accuracy (10%)."
   ]
  },
  {
   "cell_type": "markdown",
   "metadata": {},
   "source": [
    "### Q9\n",
    "* Compare the obtained accuracy to that of a regularized Softmax regression from `sklearn`."
   ]
  },
  {
   "cell_type": "code",
   "execution_count": 23,
   "metadata": {},
   "outputs": [],
   "source": [
    "x_train_lr = x_train.reshape((x_train.shape[0],x_train.shape[1]*x_train.shape[2]))\n",
    "x_test_lr = x_test.reshape((x_test.shape[0],x_test.shape[1]*x_test.shape[2]))"
   ]
  },
  {
   "cell_type": "code",
   "execution_count": 24,
   "metadata": {},
   "outputs": [
    {
     "data": {
      "text/plain": [
       "SGDClassifier()"
      ]
     },
     "execution_count": 24,
     "metadata": {},
     "output_type": "execute_result"
    }
   ],
   "source": [
    "clf = SGDClassifier()\n",
    "clf.fit(x_train_lr, y_train)"
   ]
  },
  {
   "cell_type": "code",
   "execution_count": 25,
   "metadata": {},
   "outputs": [
    {
     "name": "stdout",
     "output_type": "stream",
     "text": [
      "Accuracy score on training set : 91.53%\n"
     ]
    }
   ],
   "source": [
    "pred_train = clf.predict(x_train_lr)\n",
    "print('Accuracy score on training set :', \"{:.2%}\".format(clf.score(x_train_lr, y_train)))"
   ]
  },
  {
   "cell_type": "code",
   "execution_count": 26,
   "metadata": {},
   "outputs": [
    {
     "data": {
      "text/plain": [
       "<AxesSubplot:xlabel='Predicted number', ylabel='Actual number'>"
      ]
     },
     "execution_count": 26,
     "metadata": {},
     "output_type": "execute_result"
    },
    {
     "data": {
      "image/png": "[encoded data removed]",
      "text/plain": [
       "<Figure size 720x720 with 2 Axes>"
      ]
     },
     "metadata": {
      "needs_background": "light"
     },
     "output_type": "display_data"
    }
   ],
   "source": [
    "plt.figure(figsize=(10,10))\n",
    "sns.heatmap(pd.crosstab(y_train, pred_train, rownames=['Actual number'], colnames=['Predicted number']), annot = True, fmt=\"d\")"
   ]
  },
  {
   "cell_type": "code",
   "execution_count": 27,
   "metadata": {},
   "outputs": [
    {
     "name": "stdout",
     "output_type": "stream",
     "text": [
      "Accuracy score on test set : 91.01%\n"
     ]
    }
   ],
   "source": [
    "pred_test = clf.predict(x_test_lr)\n",
    "print('Accuracy score on test set :', \"{:.2%}\".format(clf.score(x_test_lr, y_test)))"
   ]
  },
  {
   "cell_type": "code",
   "execution_count": 28,
   "metadata": {},
   "outputs": [
    {
     "data": {
      "text/plain": [
       "<AxesSubplot:xlabel='Predicted number', ylabel='Actual number'>"
      ]
     },
     "execution_count": 28,
     "metadata": {},
     "output_type": "execute_result"
    },
    {
     "data": {
      "image/png": "[encoded data removed]",
      "text/plain": [
       "<Figure size 720x720 with 2 Axes>"
      ]
     },
     "metadata": {
      "needs_background": "light"
     },
     "output_type": "display_data"
    }
   ],
   "source": [
    "plt.figure(figsize=(10,10))\n",
    "sns.heatmap(pd.crosstab(y_test, pred_test, rownames=['Actual number'], colnames=['Predicted number']), annot = True, fmt=\"d\")"
   ]
  },
  {
   "cell_type": "markdown",
   "metadata": {},
   "source": [
    "When we use a logistic regression, the results are still acceptable but the model makes more errors than our CNN. This example shows the importance of neural networks and their performances compared to machine learning algorithms in some problems."
   ]
  }
 ],
 "metadata": {
  "kernelspec": {
   "display_name": "Python 3",
   "language": "python",
   "name": "python3"
  },
  "language_info": {
   "codemirror_mode": {
    "name": "ipython",
    "version": 3
   },
   "file_extension": ".py",
   "mimetype": "text/x-python",
   "name": "python",
   "nbconvert_exporter": "python",
   "pygments_lexer": "ipython3",
   "version": "3.8.5"
  }
 },
 "nbformat": 4,
 "nbformat_minor": 2
}
