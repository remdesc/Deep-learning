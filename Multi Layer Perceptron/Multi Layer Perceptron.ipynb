{
 "cells": [
  {
   "cell_type": "markdown",
   "id": "434535e3",
   "metadata": {},
   "source": [
    "# Preliminaries"
   ]
  },
  {
   "cell_type": "code",
   "execution_count": 1,
   "id": "8edcdad1",
   "metadata": {},
   "outputs": [],
   "source": [
    "import numpy as np\n",
    "from sklearn.datasets import make_circles\n",
    "import matplotlib.pyplot as plt\n",
    "import copy"
   ]
  },
  {
   "cell_type": "code",
   "execution_count": 2,
   "id": "d3d48f2f",
   "metadata": {},
   "outputs": [
    {
     "data": {
      "text/plain": [
       "[<matplotlib.lines.Line2D at 0x280d9ce1490>]"
      ]
     },
     "execution_count": 2,
     "metadata": {},
     "output_type": "execute_result"
    },
    {
     "data": {
      "image/png": "[encoded data removed]",
      "text/plain": [
       "<Figure size 432x432 with 1 Axes>"
      ]
     },
     "metadata": {
      "needs_background": "light"
     },
     "output_type": "display_data"
    }
   ],
   "source": [
    "X,y = make_circles(n_samples = 300, noise=0.2, factor=0.1)\n",
    "n,d = X.shape\n",
    "plt.figure(1,figsize=[6,6])\n",
    "plt.plot(X[:,0][np.where(y==1)],X[:,1][np.where(y==1)],'.r')\n",
    "plt.plot(X[:,0][np.where(y==0)],X[:,1][np.where(y==0)],'.b')"
   ]
  },
  {
   "cell_type": "code",
   "execution_count": 3,
   "id": "68125206",
   "metadata": {},
   "outputs": [],
   "source": [
    "def sgm(x):\n",
    "    res = 1 / (1 + np.exp(-x))\n",
    "    return res\n",
    "\n",
    "def onehot(y,i):\n",
    "    return 1-np.array(list(bin(y[i]+1)[2:].zfill(2))).astype(int)"
   ]
  },
  {
   "cell_type": "code",
   "execution_count": 4,
   "id": "12b9a405",
   "metadata": {},
   "outputs": [
    {
     "name": "stdout",
     "output_type": "stream",
     "text": [
      "[0 1]\n"
     ]
    }
   ],
   "source": [
    "print(onehot(y, 200))"
   ]
  },
  {
   "cell_type": "markdown",
   "id": "779d78d8",
   "metadata": {},
   "source": [
    "# Exercise 1 : Network creation"
   ]
  },
  {
   "cell_type": "code",
   "execution_count": 5,
   "id": "32220893",
   "metadata": {},
   "outputs": [],
   "source": [
    "class InputUnit:\n",
    "    def __init__(self,data):\n",
    "        self.data = data        # one column of matrix X\n",
    "        self.n = data.shape[0]  # dataset size\n",
    "        self.k = 0              # layer number\n",
    "        self.z = 0              # unit output\n",
    "        \n",
    "    def plug(self,aUnit):\n",
    "        aUnit.preceding.append(self)\n",
    "        aUnit.npr += 1\n",
    "        \n",
    "    def forward(self,i):\n",
    "        self.z = self.data[i]\n",
    "        return self.z"
   ]
  },
  {
   "cell_type": "code",
   "execution_count": 6,
   "id": "2222031b",
   "metadata": {},
   "outputs": [],
   "source": [
    "in1 = InputUnit(X[:0])\n",
    "in2 = InputUnit(X[:1])"
   ]
  },
  {
   "cell_type": "code",
   "execution_count": 7,
   "id": "d967fa0a",
   "metadata": {},
   "outputs": [],
   "source": [
    "class NeuralUnit:\n",
    "    \n",
    "    def __init__(self,k,u):\n",
    "        self.u = u          # unit number\n",
    "        self.preceding = [] # list of preceding neurons\n",
    "        self.npr = 0        # length of list preceding\n",
    "        self.following = [] # list of following neurons\n",
    "        self.nfo = 0        # length of list following\n",
    "        self.k = k          # layer number\n",
    "        self.w = 0          # unit weight\n",
    "        self.b = 0          # unit intercept\n",
    "        self.z = 0          # unit output\n",
    "        \n",
    "    def reset_params(self):\n",
    "        self.w = np.random.randn(self.npr)\n",
    "        self.b = np.random.randn()\n",
    "    \n",
    "        \n",
    "    def plug(self,aUnit):\n",
    "        self.following.append(aUnit)\n",
    "        self.nfo += 1\n",
    "        aUnit.preceding.append(self)\n",
    "        aUnit.npr += 1\n",
    "        \n",
    "    def forward(self,i):\n",
    "        z = 0\n",
    "        for k,prevNU in enumerate(self.preceding):\n",
    "            z += self.w[k]*prevNU.forward(i)\n",
    "        z += self.b\n",
    "        z = sgm(z)\n",
    "        self.z = z\n",
    "        return z\n",
    "        \n",
    "    def backprop(self,i,delta):\n",
    "        self.delta = np.zeros(self.w.shape)\n",
    "        self.w_grad = np.zeros(self.w.shape)\n",
    "        self.b_grad = 0\n",
    "        for v in range(len(self.preceding)):\n",
    "            self.delta[v] = delta[self.u]*self.z*(1-self.z)*self.w[v]\n",
    "            self.w_grad[v] = self.z*(1-self.z)*self.preceding[v].z*delta[self.u]\n",
    "        self.b_grad = self.z*(1-self.z)*delta[self.u]"
   ]
  },
  {
   "cell_type": "code",
   "execution_count": 8,
   "id": "f876f29a",
   "metadata": {},
   "outputs": [],
   "source": [
    "neurone1_1 = NeuralUnit(0,0)\n",
    "neurone1_2 = NeuralUnit(0,1)\n",
    "neurone2_1 = NeuralUnit(1,0)"
   ]
  },
  {
   "cell_type": "code",
   "execution_count": 9,
   "id": "debdaed4",
   "metadata": {},
   "outputs": [],
   "source": [
    "class Loss:\n",
    "    \n",
    "    def __init__(self,y,k):\n",
    "        self.preceding = [] # list of preceding neurons\n",
    "        self.npr = 0        # length of list preceding\n",
    "        self.y = y          # array of class labels of the training data\n",
    "        self.k = k          # layer index\n",
    "        \n",
    "        \n",
    "    def forward(self,i):\n",
    "        zin = self.preceding[0].forward(i)\n",
    "        if self.y[i] == 0:\n",
    "            return -np.log(1-zin)\n",
    "        else:\n",
    "            return -np.log(zin)\n",
    "        \n",
    "    def backprop(self,i):\n",
    "        self.delta = np.zeros((1,))\n",
    "        zin = self.preceding[0].z\n",
    "        if self.y[i] == 0:\n",
    "            dli = 1/(1-zin)\n",
    "        else:\n",
    "            dli = -1/zin\n",
    "        self.delta[0] = dli\n",
    "        return dli"
   ]
  },
  {
   "cell_type": "code",
   "execution_count": 10,
   "id": "842a35ff",
   "metadata": {},
   "outputs": [],
   "source": [
    "loss = Loss(y,2)"
   ]
  },
  {
   "cell_type": "code",
   "execution_count": 11,
   "id": "9f1e2b70",
   "metadata": {},
   "outputs": [],
   "source": [
    "class MLP:\n",
    "    \n",
    "    def __init__(self,X,y,archi):\n",
    "        self.archi = archi\n",
    "        self.X = X\n",
    "        self.n = X.shape[0]\n",
    "        self.y = y\n",
    "        self.K = len(archi)     # number of layers (including input layer)\n",
    "        \n",
    "        # creating network\n",
    "        net = []\n",
    "        for i in range(len(archi)):\n",
    "            layer=[]\n",
    "            for j in range(archi[i]):\n",
    "                if i==0:\n",
    "                    Nu = InputUnit(X[:,j])\n",
    "                else :\n",
    "                    Nu = NeuralUnit(i,j)\n",
    "                layer.append(Nu)  \n",
    "            net.append(layer) \n",
    "        net.append([Loss(y,len(archi))])\n",
    "        self.net = net\n",
    "        \n",
    "        # plug network\n",
    "        for l in range(len(net)-1):\n",
    "            for n in range(len(net[l])):\n",
    "                for next_neuron in net[l+1]:\n",
    "                    net[l][n].plug(next_neuron)   \n",
    "                    if l!=0 and l != len(net)-1:\n",
    "                        net[l][n].reset_params()\n",
    "\n",
    "    def forward(self,i):\n",
    "        return self.net[-1][-1].forward(i)\n",
    "    \n",
    "    def backprop(self,i):\n",
    "        for k in range(self.K,0,-1):\n",
    "            if k == self.K:\n",
    "                self.net[k][0].backprop(i)\n",
    "                deltas = self.net[k][0].delta\n",
    "            else:\n",
    "                deltas_new = np.zeros((self.net[k][0].npr,))\n",
    "                for u in range(len(self.net[k])):\n",
    "                    self.net[k][u].backprop(i,deltas)\n",
    "                    deltas_new += self.net[k][u].delta\n",
    "                deltas = deltas_new\n",
    "                \n",
    "                \n",
    "    def update(self,eta):\n",
    "        for l in range(1,len(self.net)-1):\n",
    "            for u in self.net[l]:\n",
    "                u.w -= eta*u.w_grad\n",
    "                u.b -= eta*u.b_grad\n",
    "                \n",
    "    def train(self,epochs,eta):\n",
    "        for epoch in range(epochs):\n",
    "            print(\"epoch \",epoch+1,\"/\",epochs,'...')\n",
    "            for i in range(self.n):\n",
    "                self.forward(i)\n",
    "                self.backprop(i)\n",
    "                self.update(eta)\n",
    "                \n",
    "    def predict(self,i):\n",
    "        return self.net[-2][0].forward(i)"
   ]
  },
  {
   "cell_type": "code",
   "execution_count": 12,
   "id": "900a3f78",
   "metadata": {},
   "outputs": [
    {
     "data": {
      "text/plain": [
       "[[<__main__.InputUnit at 0x280d9dab760>,\n",
       "  <__main__.InputUnit at 0x280d9dab400>],\n",
       " [<__main__.NeuralUnit at 0x280d9dab460>,\n",
       "  <__main__.NeuralUnit at 0x280d9dabd30>],\n",
       " [<__main__.NeuralUnit at 0x280d9dab730>],\n",
       " [<__main__.Loss at 0x280d9dabaf0>]]"
      ]
     },
     "execution_count": 12,
     "metadata": {},
     "output_type": "execute_result"
    }
   ],
   "source": [
    "mlp = MLP(X,y,[2,2,1]).net\n",
    "mlp"
   ]
  },
  {
   "cell_type": "code",
   "execution_count": 13,
   "id": "293d5d9e",
   "metadata": {},
   "outputs": [],
   "source": [
    "mlp = MLP(X,y,[2,2,1])"
   ]
  },
  {
   "cell_type": "code",
   "execution_count": 14,
   "id": "6b89fae9",
   "metadata": {},
   "outputs": [
    {
     "data": {
      "text/plain": [
       "1.8204760075600814"
      ]
     },
     "execution_count": 14,
     "metadata": {},
     "output_type": "execute_result"
    }
   ],
   "source": [
    "mlp.forward(1)"
   ]
  },
  {
   "cell_type": "markdown",
   "id": "51aed59f",
   "metadata": {},
   "source": [
    "# Exercise 2 : Forward pass"
   ]
  },
  {
   "cell_type": "code",
   "execution_count": null,
   "id": "b285a3ae",
   "metadata": {},
   "outputs": [],
   "source": []
  },
  {
   "cell_type": "markdown",
   "id": "c0bd232e",
   "metadata": {},
   "source": [
    "# Exercise 3 : Backprop"
   ]
  },
  {
   "cell_type": "code",
   "execution_count": 15,
   "id": "c0da9a1e",
   "metadata": {},
   "outputs": [
    {
     "name": "stdout",
     "output_type": "stream",
     "text": [
      "numerical derivative is :  -0.03511483859242048\n",
      "computed derivative is :  -0.03511485448538809\n"
     ]
    }
   ],
   "source": [
    "i = 0\n",
    "archi = [d,10,1]\n",
    "mlp = MLP(X,y,archi)\n",
    "mlp.forward(i)\n",
    "mlp.backprop(i)\n",
    "epsi=1e-5\n",
    "mlp2 = copy.deepcopy(mlp)\n",
    "mlp2.net[1][0].w[0] = mlp.net[1][0].w[0]+epsi\n",
    "print(\"numerical derivative is : \",(mlp2.forward(i) - mlp.forward(i))/epsi)\n",
    "print(\"computed derivative is : \",mlp.net[1][0].w_grad[0])"
   ]
  },
  {
   "cell_type": "markdown",
   "id": "ce62c2d3",
   "metadata": {},
   "source": [
    "# Exercise 4 : SGD training of the network"
   ]
  },
  {
   "cell_type": "code",
   "execution_count": 16,
   "id": "6ac40415",
   "metadata": {},
   "outputs": [
    {
     "name": "stdout",
     "output_type": "stream",
     "text": [
      "epoch  1 / 50 ...\n",
      "epoch  2 / 50 ...\n",
      "epoch  3 / 50 ...\n",
      "epoch  4 / 50 ...\n",
      "epoch  5 / 50 ...\n",
      "epoch  6 / 50 ...\n",
      "epoch  7 / 50 ...\n",
      "epoch  8 / 50 ...\n",
      "epoch  9 / 50 ...\n",
      "epoch  10 / 50 ...\n",
      "epoch  11 / 50 ...\n",
      "epoch  12 / 50 ...\n",
      "epoch  13 / 50 ...\n",
      "epoch  14 / 50 ...\n",
      "epoch  15 / 50 ...\n",
      "epoch  16 / 50 ...\n",
      "epoch  17 / 50 ...\n",
      "epoch  18 / 50 ...\n",
      "epoch  19 / 50 ...\n",
      "epoch  20 / 50 ...\n",
      "epoch  21 / 50 ...\n",
      "epoch  22 / 50 ...\n",
      "epoch  23 / 50 ...\n",
      "epoch  24 / 50 ...\n",
      "epoch  25 / 50 ...\n",
      "epoch  26 / 50 ...\n",
      "epoch  27 / 50 ...\n",
      "epoch  28 / 50 ...\n",
      "epoch  29 / 50 ...\n",
      "epoch  30 / 50 ...\n",
      "epoch  31 / 50 ...\n",
      "epoch  32 / 50 ...\n",
      "epoch  33 / 50 ...\n",
      "epoch  34 / 50 ...\n",
      "epoch  35 / 50 ...\n",
      "epoch  36 / 50 ...\n",
      "epoch  37 / 50 ...\n",
      "epoch  38 / 50 ...\n",
      "epoch  39 / 50 ...\n",
      "epoch  40 / 50 ...\n",
      "epoch  41 / 50 ...\n",
      "epoch  42 / 50 ...\n",
      "epoch  43 / 50 ...\n",
      "epoch  44 / 50 ...\n",
      "epoch  45 / 50 ...\n",
      "epoch  46 / 50 ...\n",
      "epoch  47 / 50 ...\n",
      "epoch  48 / 50 ...\n",
      "epoch  49 / 50 ...\n",
      "epoch  50 / 50 ...\n"
     ]
    }
   ],
   "source": [
    "mlp.train(50,0.01)"
   ]
  },
  {
   "cell_type": "code",
   "execution_count": 17,
   "id": "aff3f06b",
   "metadata": {},
   "outputs": [
    {
     "data": {
      "image/png": "[encoded data removed]",
      "text/plain": [
       "<Figure size 432x432 with 1 Axes>"
      ]
     },
     "metadata": {
      "needs_background": "light"
     },
     "output_type": "display_data"
    }
   ],
   "source": [
    "h = 0.02\n",
    "x1_min, x1_max = X[:, 0].min() - .5, X[:, 0].max() + .5\n",
    "x2_min, x2_max = X[:, 1].min() - .5, X[:, 1].max() + .5\n",
    "x11, x22 = np.meshgrid(np.arange(x1_min, x1_max, h),np.arange(x2_min, x2_max, h))\n",
    "X_disp = np.c_[x11.ravel(), x22.ravel()]\n",
    "n_disp = X_disp.shape[0]\n",
    "Z=[]\n",
    "for u in range(mlp.archi[0]):\n",
    "    mlp.net[0][u].data = X_disp[:,u]\n",
    "for i in range(n_disp):\n",
    "    Z.append(mlp.predict(i))\n",
    "for u in range(mlp.archi[0]):\n",
    "    mlp.net[0][u].data = X[:,u]\n",
    "Z=np.array(Z)\n",
    "Z = Z.reshape(x11.shape)\n",
    "plt.figure(2,figsize=[6,6])\n",
    "plt.plot(X[:,0][np.where(y==1)],X[:,1][np.where(y==1)],'.r')\n",
    "plt.plot(X[:,0][np.where(y==0)],X[:,1][np.where(y==0)],'.b')\n",
    "plt.contourf(x11,x22,Z,cmap=plt.cm.bwr,alpha=.8)\n",
    "plt.show()"
   ]
  },
  {
   "cell_type": "code",
   "execution_count": null,
   "id": "ba0daa61",
   "metadata": {},
   "outputs": [],
   "source": []
  }
 ],
 "metadata": {
  "kernelspec": {
   "display_name": "Python 3",
   "language": "python",
   "name": "python3"
  },
  "language_info": {
   "codemirror_mode": {
    "name": "ipython",
    "version": 3
   },
   "file_extension": ".py",
   "mimetype": "text/x-python",
   "name": "python",
   "nbconvert_exporter": "python",
   "pygments_lexer": "ipython3",
   "version": "3.8.8"
  }
 },
 "nbformat": 4,
 "nbformat_minor": 5
}
